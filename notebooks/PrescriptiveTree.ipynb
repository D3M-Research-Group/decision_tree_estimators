{
 "cells": [
  {
   "cell_type": "code",
   "execution_count": 1,
   "metadata": {
    "execution": {
     "iopub.execute_input": "2022-07-21T20:22:17.894315Z",
     "iopub.status.busy": "2022-07-21T20:22:17.894055Z",
     "iopub.status.idle": "2022-07-21T20:22:19.049479Z",
     "shell.execute_reply": "2022-07-21T20:22:19.048279Z"
    }
   },
   "outputs": [],
   "source": [
    "import numpy as np\n",
    "from odtlearn.PrescriptiveTree import PrescriptiveTreeClassifier\n",
    "import matplotlib.pyplot as plt"
   ]
  },
  {
   "cell_type": "markdown",
   "metadata": {},
   "source": [
    "# Optimal Prescriptive Trees"
   ]
  }
 ],
 "metadata": {
  "language_info": {
   "codemirror_mode": {
    "name": "ipython",
    "version": 3
   },
   "file_extension": ".py",
   "mimetype": "text/x-python",
   "name": "python",
   "nbconvert_exporter": "python",
   "pygments_lexer": "ipython3",
   "version": "3.8.2"
  }
 },
 "nbformat": 4,
 "nbformat_minor": 2
}
