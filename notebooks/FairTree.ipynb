{
 "cells": [
  {
   "cell_type": "code",
   "execution_count": 1,
   "metadata": {
    "execution": {
     "iopub.execute_input": "2022-06-20T20:24:44.573936Z",
     "iopub.status.busy": "2022-06-20T20:24:44.573677Z",
     "iopub.status.idle": "2022-06-20T20:24:45.694273Z",
     "shell.execute_reply": "2022-06-20T20:24:45.693605Z"
    }
   },
   "outputs": [],
   "source": [
    "import numpy as np\n",
    "import pandas as pd\n",
    "from odtlearn.FairTree import FairTreeClassifier\n",
    "import matplotlib.pyplot as plt"
   ]
  },
  {
   "cell_type": "markdown",
   "metadata": {},
   "source": [
    "# Fair Optimal Classification Trees\n",
    "This document aims to demonstrates how to use the `FairTreeClassifier` to fit fair optimal classification trees. We begin with the standard use case, walking through parameter choices and method details, and then provide a small example on a real-world data set.\n",
    "\n",
    "## `FairTreeClassifier`: the basics\n",
    "\n",
    "FairTree is an extension of the StrongTree MIO formulation for learning optimal *balanced* classification trees of a given depth that incorporates fairness constraints.\n",
    "\n",
    "![](../_static/img/fairOCT.png)"
   ]
  },
  {
   "cell_type": "markdown",
   "metadata": {},
   "source": [
    "## Toy Example 1: enforcing fairness constraints in the MIO formulation\n",
    "\n",
    "First we generate the data for our example. The diagram within the code block shows the expected structure of the fitted optimal decision tree.\n",
    "**NEED EXPLANATION OF DIAGRAM HERE**"
   ]
  },
  {
   "cell_type": "code",
   "execution_count": 2,
   "metadata": {
    "execution": {
     "iopub.execute_input": "2022-06-20T20:24:45.697749Z",
     "iopub.status.busy": "2022-06-20T20:24:45.697298Z",
     "iopub.status.idle": "2022-06-20T20:24:45.706102Z",
     "shell.execute_reply": "2022-06-20T20:24:45.705505Z"
    }
   },
   "outputs": [],
   "source": [
    "'''\n",
    "        X2                    |\n",
    "        |                     |\n",
    "        1    5W: 4(-) 1(+)    |     2W: 1(-) 1(+)\n",
    "        |    2B: 2(-)         |     5B: 3(-) 2(+)\n",
    "        |                     |    \n",
    "        |                     |   \n",
    "        |---------------------|------------------------\n",
    "        |                     |\n",
    "        0    4W: 3(-) 1(+)    |         3W: 1(-) 2(+) \n",
    "        |    1B:      1(+)    |         6B: 1(-) 5(+)\n",
    "        |                     | \n",
    "        |___________0_________|__________1_____________X1\n",
    "'''\n",
    "\n",
    "\n",
    "X = np.array([[0,0],[0,0],[0,0],[0,0],[0,0],\n",
    "                [1,0],[1,0],[1,0],[1,0],[1,0],[1,0],[1,0],[1,0],[1,0],\n",
    "                [1,1],[1,1],[1,1],[1,1],[1,1],[1,1],[1,1],\n",
    "                [0,1],[0,1],[0,1],[0,1],[0,1],[0,1],[0,1]])\n",
    "P = np.array([0,0,0,0,1,\n",
    "                0,0,0,1,1,1,1,1,1,\n",
    "                0,0,1,1,1,1,1,\n",
    "                0,0,0,0,0,1,1])\n",
    "y = np.array([0,0,0,1,1,\n",
    "                0,1,1,0,1,1,1,1,1,\n",
    "                0,1,0,0,0,1,1,\n",
    "                0,0,0,0,1,0,0])\n",
    "P = P.reshape(-1,1)\n",
    "\n",
    "l = X[:,1]"
   ]
  },
  {
   "cell_type": "markdown",
   "metadata": {},
   "source": [
    "Let's investigate the following scenarios\n",
    "   \n",
    "- We evaluate SP when we don't enforce any fairness constraint\n",
    "- We evaluate SP when we add SP constraint with fairbound 0.1\n",
    "- We evaluate PE when we don't enforce any fairness constraint\n",
    "- We evaluate PE when we add PE constraint with fairbound 0.04\n",
    "\n",
    "We add a helper function for displaying the results from each scenario"
   ]
  },
  {
   "cell_type": "code",
   "execution_count": 3,
   "metadata": {
    "execution": {
     "iopub.execute_input": "2022-06-20T20:24:45.709013Z",
     "iopub.status.busy": "2022-06-20T20:24:45.708794Z",
     "iopub.status.idle": "2022-06-20T20:24:45.712675Z",
     "shell.execute_reply": "2022-06-20T20:24:45.712044Z"
    }
   },
   "outputs": [],
   "source": [
    "def test_FairTree_metrics(X, y, P, l, f, b):\n",
    "    fcl = FairTreeClassifier(\n",
    "        positive_class=1,\n",
    "        depth=2,\n",
    "        _lambda=0,\n",
    "        time_limit=100,\n",
    "        fairness_type=f,\n",
    "        fairness_bound=b,\n",
    "        num_threads=None,\n",
    "        obj_mode = 'acc'\n",
    "    )   \n",
    "    fcl.fit(X, y, P, l, verbose = False)\n",
    "    \n",
    "    return fcl"
   ]
  },
  {
   "cell_type": "markdown",
   "metadata": {},
   "source": [
    "### Evaluating statistical parity without fairness constraint"
   ]
  },
  {
   "cell_type": "code",
   "execution_count": 4,
   "metadata": {
    "execution": {
     "iopub.execute_input": "2022-06-20T20:24:45.715309Z",
     "iopub.status.busy": "2022-06-20T20:24:45.714967Z",
     "iopub.status.idle": "2022-06-20T20:24:45.822448Z",
     "shell.execute_reply": "2022-06-20T20:24:45.821790Z"
    }
   },
   "outputs": [
    {
     "name": "stdout",
     "output_type": "stream",
     "text": [
      "Restricted license - for non-production use only - expires 2023-10-25\n"
     ]
    },
    {
     "name": "stdout",
     "output_type": "stream",
     "text": [
      "\n",
      "    (p,y)  P(Y=y|P=p)\n",
      "0  (0, 0)    0.785714\n",
      "1  (1, 0)    0.571429\n",
      "2  (0, 1)    0.214286\n",
      "3  (1, 1)    0.428571\n",
      " -------------------------\n",
      "#########node  1\n",
      "branch on X_0\n",
      "#########node  2\n",
      "branch on X_1\n",
      "#########node  3\n",
      "branch on X_1\n",
      "#########node  4\n",
      "leaf 0\n",
      "#########node  5\n",
      "leaf 0\n",
      "#########node  6\n",
      "leaf 1\n",
      "#########node  7\n",
      "leaf 0\n",
      "The in-sample acc is 0.7142857142857143\n"
     ]
    }
   ],
   "source": [
    "fcl_wo_SP  = test_FairTree_metrics(X, y, P, l, 'SP', 1)\n",
    "df_wo_SP = pd.DataFrame(fcl_wo_SP.get_SP(P, fcl_wo_SP.predict(X)).items(), columns=['(p,y)', 'P(Y=y|P=p)'])\n",
    "print(f'\\n{df_wo_SP}\\n -------------------------')\n",
    "fcl_wo_SP.print_tree()\n",
    "print('The in-sample acc is {}'.format(np.sum(fcl_wo_SP.predict(X)==y)/y.shape[0]))"
   ]
  },
  {
   "cell_type": "code",
   "execution_count": 5,
   "metadata": {
    "execution": {
     "iopub.execute_input": "2022-06-20T20:24:45.825187Z",
     "iopub.status.busy": "2022-06-20T20:24:45.824971Z",
     "iopub.status.idle": "2022-06-20T20:24:46.094677Z",
     "shell.execute_reply": "2022-06-20T20:24:46.094052Z"
    }
   },
   "outputs": [
    {
     "name": "stdout",
     "output_type": "stream",
     "text": [
      "0\n",
      "[[229, 129, 57], [57, 229, 129]]\n",
      "0\n",
      "[[229, 129, 57], [57, 229, 129]]\n",
      "1\n",
      "[[229, 129, 57], [57, 229, 129]]\n",
      "0\n",
      "[[229, 129, 57], [57, 229, 129]]\n"
     ]
    },
    {
     "data": {
      "image/png": "[encoded data removed]",
      "text/plain": [
       "<Figure size 432x288 with 1 Axes>"
      ]
     },
     "metadata": {
      "needs_background": "light"
     },
     "output_type": "display_data"
    }
   ],
   "source": [
    "fcl_wo_SP.plot_tree()"
   ]
  },
  {
   "cell_type": "markdown",
   "metadata": {},
   "source": [
    "### Evaluating statistical parity with fairbound 0.1"
   ]
  },
  {
   "cell_type": "code",
   "execution_count": 6,
   "metadata": {
    "execution": {
     "iopub.execute_input": "2022-06-20T20:24:46.097966Z",
     "iopub.status.busy": "2022-06-20T20:24:46.097617Z",
     "iopub.status.idle": "2022-06-20T20:24:46.206843Z",
     "shell.execute_reply": "2022-06-20T20:24:46.206205Z"
    }
   },
   "outputs": [
    {
     "name": "stdout",
     "output_type": "stream",
     "text": [
      "\n",
      "    (p,y)  P(Y=y|P=p)\n",
      "0  (0, 1)         0.5\n",
      "1  (1, 1)         0.5\n",
      "2  (0, 0)         0.5\n",
      "3  (1, 0)         0.5\n",
      " -------------------------\n",
      "#########node  1\n",
      "branch on X_0\n",
      "#########node  2\n",
      "branch on X_1\n",
      "#########node  3\n",
      "branch on X_1\n",
      "#########node  4\n",
      "leaf 1\n",
      "#########node  5\n",
      "leaf 0\n",
      "#########node  6\n",
      "leaf 1\n",
      "#########node  7\n",
      "leaf 0\n",
      "The in-sample acc is 0.6785714285714286\n"
     ]
    }
   ],
   "source": [
    "fcl_w_SP = test_FairTree_metrics(X, y, P, l, 'SP', 0.1)\n",
    "df_w_SP = pd.DataFrame(fcl_w_SP.get_SP(P, fcl_w_SP.predict(X)).items(), columns=['(p,y)', 'P(Y=y|P=p)'])\n",
    "print(f'\\n{df_w_SP}\\n -------------------------')\n",
    "fcl_w_SP.print_tree()\n",
    "print('The in-sample acc is {}'.format(np.sum(fcl_w_SP.predict(X)==y)/y.shape[0]))\n"
   ]
  },
  {
   "cell_type": "code",
   "execution_count": 7,
   "metadata": {
    "execution": {
     "iopub.execute_input": "2022-06-20T20:24:46.209928Z",
     "iopub.status.busy": "2022-06-20T20:24:46.209334Z",
     "iopub.status.idle": "2022-06-20T20:24:46.513082Z",
     "shell.execute_reply": "2022-06-20T20:24:46.512431Z"
    }
   },
   "outputs": [
    {
     "name": "stdout",
     "output_type": "stream",
     "text": [
      "1\n",
      "[[229, 129, 57], [57, 229, 129]]\n",
      "0\n",
      "[[229, 129, 57], [57, 229, 129]]\n",
      "1\n",
      "[[229, 129, 57], [57, 229, 129]]\n",
      "0\n",
      "[[229, 129, 57], [57, 229, 129]]\n"
     ]
    },
    {
     "data": {
      "image/png": "[encoded data removed]",
      "text/plain": [
       "<Figure size 432x288 with 1 Axes>"
      ]
     },
     "metadata": {
      "needs_background": "light"
     },
     "output_type": "display_data"
    }
   ],
   "source": [
    "fcl_w_SP.plot_tree()"
   ]
  },
  {
   "cell_type": "markdown",
   "metadata": {},
   "source": [
    "### Evaluating PE without fairness constraint"
   ]
  },
  {
   "cell_type": "code",
   "execution_count": 8,
   "metadata": {
    "execution": {
     "iopub.execute_input": "2022-06-20T20:24:46.516491Z",
     "iopub.status.busy": "2022-06-20T20:24:46.515946Z",
     "iopub.status.idle": "2022-06-20T20:24:46.617186Z",
     "shell.execute_reply": "2022-06-20T20:24:46.616563Z"
    }
   },
   "outputs": [
    {
     "name": "stdout",
     "output_type": "stream",
     "text": [
      "\n",
      "  (p, t, t_pred)  P(Y_pred=t_pred|P=p, Y=t)\n",
      "0      (0, 0, 0)                   0.888889\n",
      "1      (1, 0, 0)                   0.833333\n",
      "2      (0, 0, 1)                   0.111111\n",
      "3      (1, 0, 1)                   0.166667\n",
      "4      (0, 1, 0)                   0.600000\n",
      "5      (1, 1, 0)                   0.375000\n",
      "6      (0, 1, 1)                   0.400000\n",
      "7      (1, 1, 1)                   0.625000\n",
      " -------------------------\n",
      "#########node  1\n",
      "branch on X_1\n",
      "#########node  2\n",
      "branch on X_0\n",
      "#########node  3\n",
      "branch on X_0\n",
      "#########node  4\n",
      "leaf 0\n",
      "#########node  5\n",
      "leaf 1\n",
      "#########node  6\n",
      "leaf 0\n",
      "#########node  7\n",
      "leaf 0\n",
      "The in-sample acc is 0.7142857142857143\n"
     ]
    }
   ],
   "source": [
    "fcl_wo_PE  = test_FairTree_metrics(X, y, P, l, 'PE', 1)\n",
    "df_wo_PE = pd.DataFrame(fcl_wo_PE.get_EqOdds(P, y, fcl_wo_PE.predict(X)).items(), columns=['(p, t, t_pred)', 'P(Y_pred=t_pred|P=p, Y=t)'])\n",
    "print(f'\\n{df_wo_PE}\\n -------------------------')\n",
    "fcl_wo_PE.print_tree()\n",
    "print('The in-sample acc is {}'.format(np.sum(fcl_wo_PE.predict(X)==y)/y.shape[0]))"
   ]
  },
  {
   "cell_type": "code",
   "execution_count": 9,
   "metadata": {
    "execution": {
     "iopub.execute_input": "2022-06-20T20:24:46.620158Z",
     "iopub.status.busy": "2022-06-20T20:24:46.619821Z",
     "iopub.status.idle": "2022-06-20T20:24:46.872779Z",
     "shell.execute_reply": "2022-06-20T20:24:46.872147Z"
    }
   },
   "outputs": [
    {
     "name": "stdout",
     "output_type": "stream",
     "text": [
      "0\n",
      "[[229, 129, 57], [57, 229, 129]]\n",
      "1\n",
      "[[229, 129, 57], [57, 229, 129]]\n",
      "0\n",
      "[[229, 129, 57], [57, 229, 129]]\n",
      "0\n",
      "[[229, 129, 57], [57, 229, 129]]\n"
     ]
    },
    {
     "data": {
      "image/png": "[encoded data removed]",
      "text/plain": [
       "<Figure size 432x288 with 1 Axes>"
      ]
     },
     "metadata": {
      "needs_background": "light"
     },
     "output_type": "display_data"
    }
   ],
   "source": [
    "fcl_wo_PE.plot_tree()"
   ]
  },
  {
   "cell_type": "markdown",
   "metadata": {},
   "source": [
    "### Evaluating PE with fairbound 0.04"
   ]
  },
  {
   "cell_type": "code",
   "execution_count": 10,
   "metadata": {
    "execution": {
     "iopub.execute_input": "2022-06-20T20:24:46.876216Z",
     "iopub.status.busy": "2022-06-20T20:24:46.875690Z",
     "iopub.status.idle": "2022-06-20T20:24:46.986505Z",
     "shell.execute_reply": "2022-06-20T20:24:46.985965Z"
    }
   },
   "outputs": [
    {
     "name": "stdout",
     "output_type": "stream",
     "text": [
      "\n",
      "  (p, t, t_pred)  P(Y_pred=t_pred|P=p, Y=t)\n",
      "0      (0, 0, 0)                        1.0\n",
      "1      (1, 0, 0)                        1.0\n",
      "2      (0, 0, 1)                        0.0\n",
      "3      (1, 0, 1)                        0.0\n",
      "4      (0, 1, 0)                        1.0\n",
      "5      (1, 1, 0)                        1.0\n",
      "6      (0, 1, 1)                        0.0\n",
      "7      (1, 1, 1)                        0.0\n",
      " -------------------------\n",
      "#########node  1\n",
      "branch on X_1\n",
      "#########node  2\n",
      "branch on X_1\n",
      "#########node  3\n",
      "branch on X_0\n",
      "#########node  4\n",
      "leaf 0\n",
      "#########node  5\n",
      "leaf 0\n",
      "#########node  6\n",
      "leaf 0\n",
      "#########node  7\n",
      "leaf 0\n",
      "The in-sample acc is 0.5357142857142857\n"
     ]
    }
   ],
   "source": [
    "fcl_w_PE  = test_FairTree_metrics(X, y, P, l, 'PE', 0.04)\n",
    "df_w_PE = pd.DataFrame(fcl_w_PE.get_EqOdds(P, y, fcl_w_PE.predict(X)).items(), columns=['(p, t, t_pred)', 'P(Y_pred=t_pred|P=p, Y=t)'])\n",
    "print(f'\\n{df_w_PE}\\n -------------------------')\n",
    "fcl_w_PE.print_tree()\n",
    "print('The in-sample acc is {}'.format(np.sum(fcl_w_PE.predict(X)==y)/y.shape[0]))"
   ]
  },
  {
   "cell_type": "code",
   "execution_count": 11,
   "metadata": {
    "execution": {
     "iopub.execute_input": "2022-06-20T20:24:46.989375Z",
     "iopub.status.busy": "2022-06-20T20:24:46.989155Z",
     "iopub.status.idle": "2022-06-20T20:24:47.242578Z",
     "shell.execute_reply": "2022-06-20T20:24:47.241988Z"
    }
   },
   "outputs": [
    {
     "name": "stdout",
     "output_type": "stream",
     "text": [
      "0\n",
      "[[229, 129, 57], [57, 229, 129]]\n",
      "0\n",
      "[[229, 129, 57], [57, 229, 129]]\n",
      "0\n",
      "[[229, 129, 57], [57, 229, 129]]\n",
      "0\n",
      "[[229, 129, 57], [57, 229, 129]]\n"
     ]
    },
    {
     "data": {
      "image/png": "[encoded data removed]",
      "text/plain": [
       "<Figure size 432x288 with 1 Axes>"
      ]
     },
     "metadata": {
      "needs_background": "light"
     },
     "output_type": "display_data"
    }
   ],
   "source": [
    "fcl_w_PE.plot_tree()"
   ]
  },
  {
   "cell_type": "markdown",
   "metadata": {},
   "source": [
    "## References\n",
    "Jo, N., Aghaei, S., Benson, J., Gómez, A., & Vayanos, P. (2022). Learning optimal fair classification trees. arXiv preprint arXiv:2201.09932. [[arxiv](https://arxiv.org/pdf/2201.09932.pdf)] "
   ]
  }
 ],
 "metadata": {
  "interpreter": {
   "hash": "dfaf93ad87348b32221474fd3c800e01f580d105683f49be3d64b58d8896a56c"
  },
  "kernelspec": {
   "display_name": "Python 3.9.7",
   "language": "python",
   "name": "python3"
  },
  "language_info": {
   "codemirror_mode": {
    "name": "ipython",
    "version": 3
   },
   "file_extension": ".py",
   "mimetype": "text/x-python",
   "name": "python",
   "nbconvert_exporter": "python",
   "pygments_lexer": "ipython3",
   "version": "3.8.2"
  }
 },
 "nbformat": 4,
 "nbformat_minor": 2
}
