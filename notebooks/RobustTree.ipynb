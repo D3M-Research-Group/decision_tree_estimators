{
 "cells": [
  {
   "cell_type": "code",
   "execution_count": 1,
   "metadata": {
    "execution": {
     "iopub.execute_input": "2022-06-21T21:59:52.753723Z",
     "iopub.status.busy": "2022-06-21T21:59:52.753294Z",
     "iopub.status.idle": "2022-06-21T21:59:54.343731Z",
     "shell.execute_reply": "2022-06-21T21:59:54.339456Z"
    }
   },
   "outputs": [],
   "source": [
    "import numpy as np\n",
    "from odtlearn.RobustTree import RobustTreeClassifier\n",
    "import matplotlib.pyplot as plt"
   ]
  },
  {
   "cell_type": "markdown",
   "metadata": {},
   "source": [
    "# Optimal Robust Classification Trees"
   ]
  }
 ],
 "metadata": {
  "language_info": {
   "codemirror_mode": {
    "name": "ipython",
    "version": 3
   },
   "file_extension": ".py",
   "mimetype": "text/x-python",
   "name": "python",
   "nbconvert_exporter": "python",
   "pygments_lexer": "ipython3",
   "version": "3.8.2"
  }
 },
 "nbformat": 4,
 "nbformat_minor": 2
}
