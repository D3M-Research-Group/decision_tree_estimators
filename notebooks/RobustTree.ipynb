{
 "cells": [
  {
   "cell_type": "code",
   "execution_count": 1,
   "metadata": {
    "execution": {
     "iopub.execute_input": "2022-06-06T23:55:15.851141Z",
     "iopub.status.busy": "2022-06-06T23:55:15.850810Z",
     "iopub.status.idle": "2022-06-06T23:55:16.764432Z",
     "shell.execute_reply": "2022-06-06T23:55:16.763827Z"
    }
   },
   "outputs": [],
   "source": [
    "import numpy as np\n",
    "from odtlearn.RobustTree import RobustTreeClassifier\n",
    "import matplotlib.pyplot as plt"
   ]
  },
  {
   "cell_type": "markdown",
   "metadata": {},
   "source": [
    "# Optimal Robust Classification Trees"
   ]
  }
 ],
 "metadata": {
  "language_info": {
   "codemirror_mode": {
    "name": "ipython",
    "version": 3
   },
   "file_extension": ".py",
   "mimetype": "text/x-python",
   "name": "python",
   "nbconvert_exporter": "python",
   "pygments_lexer": "ipython3",
   "version": "3.8.2"
  }
 },
 "nbformat": 4,
 "nbformat_minor": 2
}
