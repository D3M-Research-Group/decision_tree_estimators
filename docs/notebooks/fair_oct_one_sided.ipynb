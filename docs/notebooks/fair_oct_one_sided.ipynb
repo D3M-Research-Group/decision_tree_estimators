{
 "cells": [
  {
   "cell_type": "markdown",
   "metadata": {},
   "source": [
    "# Adding side constraints to optimal classification trees"
   ]
  },
  {
   "cell_type": "code",
   "execution_count": null,
   "metadata": {},
   "outputs": [],
   "source": [
    "import warnings\n",
    "from itertools import combinations\n",
    "\n",
    "import numpy as np\n",
    "import pandas as pd\n",
    "from sklearn.utils.multiclass import unique_labels\n",
    "from sklearn.utils.validation import check_array, check_is_fitted, check_X_y\n",
    "\n",
    "from odtlearn import ODTL\n",
    "from odtlearn.constrained_oct import ConstrainedOCT\n",
    "from odtlearn.flow_oct_ms import FlowOCTMultipleSink\n",
    "from odtlearn.utils.validation import check_binary, check_columns_match"
   ]
  },
  {
   "cell_type": "markdown",
   "metadata": {},
   "source": [
    "The purpose of this notebook is to demonstrate how users can leverage the object-oriented structure of the `ODTlearn` package to create optimal classification trees with side constraints. In particular, we will show how to construct an optimal classification tree with a one-sided fairness constraint instead of a two-sided fairness constraint used in `FairSPOCT`, `FairCSPOCT`, `FairPEOCT`, and `FairEOddsOCT` classes."
   ]
  },
  {
   "cell_type": "markdown",
   "metadata": {},
   "source": [
    "The figure below shows a simplified version of the class structure for optimal classification trees with fairness constraints. The `ConstrainedOCT` class includes an abstract method `_define_side_constraints()` which will be added to the optimization problem on top of the tree structure, flow, and arc constraints declared by the `FlowOCTMultipleSink` class. The `FairConstrainedOCT` class provides a method for adding a two-sided fairness constraint and the classes that inherit from it contain methods calculating the particular fairness notion of interest. However, for our example, we want a one-sided bound instead of a two-sided bound. In other words, we want the difference between two groups to not exceed a desired value rather than be bounded in absolute value."
   ]
  },
  {
   "cell_type": "code",
   "execution_count": 10,
   "metadata": {},
   "outputs": [
    {
     "data": {
      "text/html": [
       "<img src=\"https://mermaid.ink/img/CmNsYXNzRGlhZ3JhbQogICBPcHRpbWFsRGVjaXNpb25UcmVlIDx8LS0gT3B0aW1hbENsYXNzaWZpY2F0aW9uVHJlZQogICBPcHRpbWFsQ2xhc3NpZmljYXRpb25UcmVlIDx8LS0gRmxvd09DVE11bHRpcGxlU2luawogICBGbG93T0NUTXVsdGlwbGVTaW5rIDx8LS0gQ29uc3RyYWluZWRPQ1QKICAgQ29uc3RyYWluZWRPQ1QgPHwtLSBGYWlyQ29uc3RyYWluZWRPQ1QKICAgRmFpckNvbnN0cmFpbmVkT0NUIDx8LS0gRmFpclNQT0NUCiAgIEZhaXJDb25zdHJhaW5lZE9DVCA8fC0tIEZhaXJDU1BPQ1QKICAgRmFpckNvbnN0cmFpbmVkT0NUIDx8LS0gRmFpclBFT0NUCiAgIEZhaXJDb25zdHJhaW5lZE9DVCA8fC0tIEZhaXJFT2Rkc09DVAogICBDb25zdHJhaW5lZE9DVDogK19kZWZpbmVfc2lkZV9jb25zdHJhaW50cygpCiAgIEZhaXJDb25zdHJhaW5lZE9DVDogK19hZGRfZmFpcm5lc3NfY29uc3RyYWludCgpCg==\"/>"
      ],
      "text/plain": [
       "<IPython.core.display.Image object>"
      ]
     },
     "metadata": {},
     "output_type": "display_data"
    }
   ],
   "source": [
    "import base64\n",
    "from IPython.display import Image, display\n",
    "import matplotlib.pyplot as plt\n",
    "\n",
    "def mm(graph):\n",
    "    graphbytes = graph.encode(\"utf8\")\n",
    "    base64_bytes = base64.b64encode(graphbytes)\n",
    "    base64_string = base64_bytes.decode(\"ascii\")\n",
    "    display(Image(url=\"https://mermaid.ink/img/\" + base64_string))\n",
    "\n",
    "mm(\"\"\"\n",
    "classDiagram\n",
    "   OptimalDecisionTree <|-- OptimalClassificationTree\n",
    "   OptimalClassificationTree <|-- FlowOCTMultipleSink\n",
    "   FlowOCTMultipleSink <|-- ConstrainedOCT\n",
    "   ConstrainedOCT <|-- FairConstrainedOCT\n",
    "   FairConstrainedOCT <|-- FairSPOCT\n",
    "   FairConstrainedOCT <|-- FairCSPOCT\n",
    "   FairConstrainedOCT <|-- FairPEOCT\n",
    "   FairConstrainedOCT <|-- FairEOddsOCT\n",
    "   ConstrainedOCT: +_define_side_constraints()\n",
    "   FairConstrainedOCT: +_add_fairness_constraint()\n",
    "\"\"\")"
   ]
  },
  {
   "cell_type": "markdown",
   "metadata": {},
   "source": [
    "To achieve this goal of creating an optimal classification tree with a one-sided fairness constraint, we will create a new class called `FairConstrainedOneSideOCT` that will inherit from `ConstrainedOCT`, and we will define a new method `_add_one_sided_fairness_constraint()` as shown in the class diagram below. While it is likely feasible to modify the `FairConstrainedOCT` class to allow users to specify whether they want a one-sided or two-sided fairness constraint when they initialize one of the four different `Fair*OCT` classes, such an approach leads to duplicated code and increased code complexity which makes future modifications to the code more complicated."
   ]
  },
  {
   "cell_type": "code",
   "execution_count": 11,
   "metadata": {},
   "outputs": [
    {
     "data": {
      "text/html": [
       "<img src=\"https://mermaid.ink/img/CmNsYXNzRGlhZ3JhbQogICBPcHRpbWFsRGVjaXNpb25UcmVlIDx8LS0gT3B0aW1hbENsYXNzaWZpY2F0aW9uVHJlZQogICBPcHRpbWFsQ2xhc3NpZmljYXRpb25UcmVlIDx8LS0gRmxvd09DVE11bHRpcGxlU2luawogICBGbG93T0NUTXVsdGlwbGVTaW5rIDx8LS0gQ29uc3RyYWluZWRPQ1QKICAgQ29uc3RyYWluZWRPQ1QgPHwtLSBGYWlyQ29uc3RyYWluZWRPQ1QKICAgRmFpckNvbnN0cmFpbmVkT0NUIDx8LS0gRmFpclNQT0NUCiAgIEZhaXJDb25zdHJhaW5lZE9DVCA8fC0tIEZhaXJDU1BPQ1QKICAgRmFpckNvbnN0cmFpbmVkT0NUIDx8LS0gRmFpclBFT0NUCiAgIEZhaXJDb25zdHJhaW5lZE9DVCA8fC0tIEZhaXJFT2Rkc09DVAogICBDb25zdHJhaW5lZE9DVCA8fC0tIEZhaXJDb25zdHJhaW5lZE9uZVNpZGVPQ1QKICAgRmFpckNvbnN0cmFpbmVkT25lU2lkZU9DVDogK19hZGRfb25lX3NpZGVkX2ZhaXJuZXNzX2NvbnN0cmFpbnQKICAgQ29uc3RyYWluZWRPQ1Q6ICtfZGVmaW5lX3NpZGVfY29uc3RyYWludHMoKQogICBGYWlyQ29uc3RyYWluZWRPQ1Q6ICtfYWRkX2ZhaXJuZXNzX2NvbnN0cmFpbnQoKQo=\"/>"
      ],
      "text/plain": [
       "<IPython.core.display.Image object>"
      ]
     },
     "metadata": {},
     "output_type": "display_data"
    }
   ],
   "source": [
    "import base64\n",
    "from IPython.display import Image, display\n",
    "import matplotlib.pyplot as plt\n",
    "\n",
    "def mm(graph):\n",
    "    graphbytes = graph.encode(\"utf8\")\n",
    "    base64_bytes = base64.b64encode(graphbytes)\n",
    "    base64_string = base64_bytes.decode(\"ascii\")\n",
    "    display(Image(url=\"https://mermaid.ink/img/\" + base64_string))\n",
    "\n",
    "mm(\"\"\"\n",
    "classDiagram\n",
    "   OptimalDecisionTree <|-- OptimalClassificationTree\n",
    "   OptimalClassificationTree <|-- FlowOCTMultipleSink\n",
    "   FlowOCTMultipleSink <|-- ConstrainedOCT\n",
    "   ConstrainedOCT <|-- FairConstrainedOCT\n",
    "   FairConstrainedOCT <|-- FairSPOCT\n",
    "   FairConstrainedOCT <|-- FairCSPOCT\n",
    "   FairConstrainedOCT <|-- FairPEOCT\n",
    "   FairConstrainedOCT <|-- FairEOddsOCT\n",
    "   ConstrainedOCT <|-- FairConstrainedOneSideOCT\n",
    "   FairConstrainedOneSideOCT: +_add_one_sided_fairness_constraint()\n",
    "   ConstrainedOCT: +_define_side_constraints()\n",
    "   FairConstrainedOCT: +_add_fairness_constraint()\n",
    "\"\"\")"
   ]
  },
  {
   "cell_type": "markdown",
   "metadata": {},
   "source": [
    "First we need to initialize the `FairConstrainedOneSideOCT` class and have it inherit from `ConstrainedOCT`."
   ]
  },
  {
   "cell_type": "code",
   "execution_count": null,
   "metadata": {},
   "outputs": [],
   "source": [
    "class FairConstrainedOneSideOCT(ConstrainedOCT):\n",
    "    def __init__(\n",
    "        self, solver, _lambda, depth, time_limit, num_threads, verbose\n",
    "    ) -> None:\n",
    "        super().__init__(solver, _lambda, depth, time_limit, num_threads, verbose)"
   ]
  },
  {
   "cell_type": "markdown",
   "metadata": {},
   "source": [
    "Next, we will define our `_add_one_sided_fairness_constraint()` method which will take as arguments values of the fairness metric of interest for two groups $p$ and $p'$."
   ]
  },
  {
   "cell_type": "code",
   "execution_count": null,
   "metadata": {},
   "outputs": [],
   "source": [
    "    def _add_one_sided_fairness_constraint(self, p_df, p_prime_df):\n",
    "        count_p = p_df.shape[0]\n",
    "        count_p_prime = p_prime_df.shape[0]\n",
    "        constraint_added = False\n",
    "        if count_p != 0 and count_p_prime != 0:\n",
    "            constraint_added = True\n",
    "            self._solver.add_constr(\n",
    "                (\n",
    "                    (1 / count_p)\n",
    "                    * self._solver.quicksum(\n",
    "                        self._solver.quicksum(\n",
    "                            self._zeta[i, n, self._positive_class]\n",
    "                            for n in self._tree.Leaves + self._tree.Nodes\n",
    "                        )\n",
    "                        for i in p_df.index\n",
    "                    )\n",
    "                    - (\n",
    "                        (1 / count_p_prime)\n",
    "                        * self._solver.quicksum(\n",
    "                            self._solver.quicksum(\n",
    "                                self._zeta[i, n, self._positive_class]\n",
    "                                for n in self._tree.Leaves + self._tree.Nodes\n",
    "                            )\n",
    "                            for i in p_prime_df.index\n",
    "                        )\n",
    "                    )\n",
    "                )\n",
    "                <= self._fairness_bound\n",
    "            )\n",
    "\n",
    "        return constraint_added"
   ]
  },
  {
   "cell_type": "markdown",
   "metadata": {},
   "source": [
    "After our one-sided constraint method has been defined, we still need to define the remaining abstract methods: `_define_objective()`, `fit()`, and `predict()`. We omit these functions for this notebook, but for the interested reader, they would largely mirror the methods defined in `FairConstrained`.\n",
    "\n",
    "With the `FairConstrainedOneSidedOCT` class completed, we can now define child classes for a fairness notion of interest. For this example, we will create a class for an optimal classification tree with a one-sided statistical parity constraint."
   ]
  },
  {
   "cell_type": "code",
   "execution_count": null,
   "metadata": {},
   "outputs": [],
   "source": [
    "class FairOneSideSPOCT(FairConstrainedOneSideOCT):\n",
    "    def __init__(\n",
    "        self,\n",
    "        solver,\n",
    "        positive_class,\n",
    "        depth=1,\n",
    "        time_limit=60,\n",
    "        _lambda=0,\n",
    "        obj_mode=\"acc\",\n",
    "        fairness_bound=1,\n",
    "        num_threads=None,\n",
    "        verbose=False,\n",
    "    ) -> None:\n",
    "        \"\"\"\n",
    "        An optimal classification tree fit on a given binary-valued data set\n",
    "        with a one-sided fairness side-constraint requiring statistical parity (SP) between protected groups.\n",
    "\n",
    "                Parameters\n",
    "        ----------\n",
    "        solver: str\n",
    "            A string specifying the name of the solver to use\n",
    "            to solve the MIP. Options are \"Gurobi\" and \"CBC\".\n",
    "            If the CBC binaries are not found, Gurobi will be used by default.\n",
    "        positive_class : int\n",
    "            The value of the class label which is corresponding to the desired outcome\n",
    "        depth : int, default = 1\n",
    "            A parameter specifying the depth of the tree\n",
    "        time_limit : int, default= 60\n",
    "            The given time limit (in seconds) for solving the MIO problem\n",
    "        _lambda : float, default = 0\n",
    "            The regularization parameter in the objective. _lambda is in the interval [0,1)\n",
    "        obj_mode: str, default=\"acc\"\n",
    "            The objective should be used to learn an optimal decision tree.\n",
    "            The two options are \"acc\" and \"balance\".\n",
    "            The accuracy objective attempts to maximize prediction accuracy while the\n",
    "            balance objective aims to learn a balanced optimal decision\n",
    "            tree to better generalize to our of sample data.\n",
    "        fairness_bound: float (0,1], default=1\n",
    "            The bound of the fairness constraint. The smaller the value the stricter\n",
    "            the fairness constraint and 1 corresponds to no fairness constraint enforced\n",
    "        num_threads: int, default=None\n",
    "            The number of threads the solver should use. If None, it will use all avaiable threads\n",
    "\n",
    "        \"\"\"\n",
    "        super().__init__(solver, _lambda, depth, time_limit, num_threads, verbose)\n",
    "\n",
    "        self._obj_mode = obj_mode\n",
    "        self._positive_class = positive_class\n",
    "        self._fairness_bound = fairness_bound\n",
    "\n",
    "    def _define_side_constraints(self):\n",
    "        # Loop through all possible combinations of the protected feature\n",
    "        for protected_feature in self._P_col_labels:\n",
    "            for combo in combinations(self._X_p[protected_feature].unique(), 2):\n",
    "                p = combo[0]\n",
    "                p_prime = combo[1]\n",
    "\n",
    "                p_df = self._X_p[self._X_p[protected_feature] == p]\n",
    "                p_prime_df = self._X_p[self._X_p[protected_feature] == p_prime]\n",
    "                self._add_fairness_constraint(p_df, p_prime_df)"
   ]
  },
  {
   "cell_type": "markdown",
   "metadata": {},
   "source": [
    "The process for other notions of fairness including conditional statistical parity, equalized odds, and predictive equity is similar but with different formulas for calculating $p$ and $p'$. For additional details on how $p$ and $p'$ as well as further information about the fair optimal classification tree MIO formulation, please see the FairOCT paper: https://arxiv.org/abs/2201.09932\n",
    "And with that we have added an extension to the `ODTlearn` package to "
   ]
  },
  {
   "cell_type": "markdown",
   "metadata": {},
   "source": []
  }
 ],
 "metadata": {
  "kernelspec": {
   "display_name": "test_sphinx",
   "language": "python",
   "name": "python3"
  },
  "language_info": {
   "codemirror_mode": {
    "name": "ipython",
    "version": 3
   },
   "file_extension": ".py",
   "mimetype": "text/x-python",
   "name": "python",
   "nbconvert_exporter": "python",
   "pygments_lexer": "ipython3",
   "version": "3.9.13"
  }
 },
 "nbformat": 4,
 "nbformat_minor": 2
}
